{
 "cells": [
  {
   "cell_type": "code",
   "execution_count": 1,
   "id": "b6370257",
   "metadata": {},
   "outputs": [],
   "source": [
    "import cv2 \n",
    "import numpy as np \n",
    "import pytesseract"
   ]
  },
  {
   "cell_type": "code",
   "execution_count": 2,
   "id": "44c68be0",
   "metadata": {},
   "outputs": [],
   "source": [
    "pytesseract.pytesseract.tesseract_cmd= \"C:\\Program Files\\Tesseract-OCR/tesseract.exe\""
   ]
  },
  {
   "cell_type": "code",
   "execution_count": 3,
   "id": "3a57a1bb",
   "metadata": {},
   "outputs": [],
   "source": [
    "cascade= cv2.CascadeClassifier(\"haarcascade_russian_plate_number.xml\")\n",
    "states={\n",
    "    \"AN\":\"Andaman and Nicobar\",\n",
    "    \"AP\":\"Andhra Pradesh\",\"AR\":\"Arunachal Pradesh\",\n",
    "    \"AS\":\"Assam\",\"BR\":\"Bihar\",\"CH\":\"Chandigarh\",\n",
    "    \"DN\":\"Dadra and Nagar Haveli\",\"DD\":\"Daman and Diu\",\n",
    "    \"DL\":\"Delhi\",\"GA\":\"Goa\",\"GJ\":\"Gujarat\",\n",
    "    \"HR\":\"Haryana\",\"HP\":\"Himachal Pradesh\",\n",
    "    \"JK\":\"Jammu and Kashmir\",\"KA\":\"Karnataka\",\"KL\":\"Kerala\",\n",
    "    \"LD\":\"Lakshadweep\",\"MP\":\"Madhya Pradesh\",\"MH\":\"Maharashtra\",\"MN\":\"Manipur\",\n",
    "    \"ML\":\"Meghalaya\",\"MZ\":\"Mizoram\",\"NL\":\"Nagaland\",\"OD\":\"Odissa\",\n",
    "    \"PY\":\"Pondicherry\",\"PN\":\"Punjab\",\"RJ\":\"Rajasthan\",\"SK\":\"Sikkim\",\"TN\":\"TamilNadu\",\n",
    "    \"TR\":\"Tripura\",\"UP\":\"Uttar Pradesh\", \"WB\":\"West Bengal\",\"CG\":\"Chhattisgarh\",\n",
    "    \"TS\":\"Telangana\",\"JH\":\"Jharkhand\",\"UK\":\"Uttarakhand\"\n",
    "       }\n"
   ]
  },
  {
   "cell_type": "code",
   "execution_count": 19,
   "id": "277944d4",
   "metadata": {},
   "outputs": [],
   "source": [
    "def Extract_Num(filename):\n",
    "    img = cv2.imread(filename)\n",
    "    #Img To Gray\n",
    "    gray=cv2.cvtColor(img,cv2.COLOR_BGR2GRAY)\n",
    "    nplate=cascade.detectMultiScale(gray,1.1,4)\n",
    "    #crop portion\n",
    "    for (x,y,w,h) in nplate:\n",
    "        wT,hT,_=img.shape\n",
    "        a,b=(int(0.02*wT),int(0.02*hT))\n",
    "        plate=img[y+a:y+h-a,x+b:x+w-b]\n",
    "        cv2.imshow(\"plate\",plate)\n",
    "        #make the img more darker to identify LPR\n",
    "        kernel=np.ones((1,1),np.uint8)\n",
    "        plate=cv2.dilate(plate,kernel,iterations=1)\n",
    "        plate=cv2.erode(plate,kernel,iterations=1)        \n",
    "        plate_gray=cv2.cvtColor(plate,cv2.COLOR_BGR2GRAY)\n",
    "        (thresh,plate)=cv2.threshold(plate_gray,127,255,cv2.THRESH_BINARY)\n",
    "        #read the text on the plate\n",
    "        read=pytesseract.image_to_string(plate)\n",
    "#         print(read)\n",
    "        #         \n",
    "        read =''.join(e for e in read if e.isalnum())\n",
    "        stat = read[0:2]\n",
    "        cv2.rectangle(img,(x,y),(x+w,y+h),(0,255,0),2)\n",
    "        cv2.rectangle(img,(x,y-40),(x+w,y),(0,255,0),-1)\n",
    "        cv2.putText(img,read,(x,y-10),cv2.FONT_HERSHEY_SIMPLEX,0.9,(255,255,255),2)\n",
    "        \n",
    "#     img = cv2.resize(img,(600,600),fx=0,fy=0)\n",
    "    cv2.imshow(\"Result\",img)\n",
    "    cv2.waitKey(0)\n",
    "    cv2.destroyAllWindows()\n"
   ]
  },
  {
   "cell_type": "code",
   "execution_count": 20,
   "id": "8671db27",
   "metadata": {},
   "outputs": [],
   "source": [
    "filename=\"car1.jpg\"\n",
    "Extract_Num(filename)"
   ]
  },
  {
   "cell_type": "code",
   "execution_count": null,
   "id": "703093a7",
   "metadata": {},
   "outputs": [],
   "source": []
  }
 ],
 "metadata": {
  "kernelspec": {
   "display_name": "Python 3 (ipykernel)",
   "language": "python",
   "name": "python3"
  },
  "language_info": {
   "codemirror_mode": {
    "name": "ipython",
    "version": 3
   },
   "file_extension": ".py",
   "mimetype": "text/x-python",
   "name": "python",
   "nbconvert_exporter": "python",
   "pygments_lexer": "ipython3",
   "version": "3.9.7"
  }
 },
 "nbformat": 4,
 "nbformat_minor": 5
}
